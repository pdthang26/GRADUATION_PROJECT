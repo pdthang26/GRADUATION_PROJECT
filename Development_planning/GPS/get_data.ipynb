{
 "cells": [
  {
   "cell_type": "code",
   "execution_count": 1,
   "metadata": {},
   "outputs": [],
   "source": [
    "import serial\n",
    "import os\n",
    "import keyboard\n",
    "import pandas as pd\n",
    "import numpy as np"
   ]
  },
  {
   "cell_type": "code",
   "execution_count": 2,
   "metadata": {},
   "outputs": [],
   "source": [
    "gps_uart = serial.Serial( port='COM5', baudrate=9600)"
   ]
  },
  {
   "cell_type": "code",
   "execution_count": 3,
   "metadata": {},
   "outputs": [],
   "source": [
    "data_GPS = pd.DataFrame()"
   ]
  },
  {
   "cell_type": "code",
   "execution_count": 4,
   "metadata": {},
   "outputs": [
    {
     "name": "stdout",
     "output_type": "stream",
     "text": [
      "['$GPRMC', '053209.00', 'A', '1134.58204', 'N', '10752.33684', 'E', '0.020', '', '300424', '', '', 'D*7C']\n",
      "['$GPRMC', '053210.00', 'A', '1134.58204', 'N', '10752.33683', 'E', '0.023', '', '300424', '', '', 'D*70']\n",
      "['$GPRMC', '053211.00', 'A', '1134.58205', 'N', '10752.33683', 'E', '0.049', '', '300424', '', '', 'D*7C']\n",
      "['$GPRMC', '053212.00', 'A', '1134.58205', 'N', '10752.33680', 'E', '0.051', '', '300424', '', '', 'D*75']\n",
      "['$GPRMC', '053213.00', 'A', '1134.58204', 'N', '10752.33676', 'E', '0.050', '', '300424', '', '', 'D*7D']\n",
      "['$GPRMC', '053214.00', 'A', '1134.58205', 'N', '10752.33674', 'E', '0.089', '', '300424', '', '', 'D*7D']\n",
      "['$GPRMC', '053215.00', 'A', '1134.58205', 'N', '10752.33671', 'E', '0.014', '', '300424', '', '', 'D*7D']\n",
      "['$GPRMC', '053216.00', 'A', '1134.58206', 'N', '10752.33667', 'E', '0.037', '', '300424', '', '', 'D*7B']\n",
      "['$GPRMC', '053217.00', 'A', '1134.58205', 'N', '10752.33664', 'E', '0.022', '', '300424', '', '', 'D*7E']\n",
      "['$GPRMC', '053218.00', 'A', '1134.58204', 'N', '10752.33661', 'E', '0.052', '', '300424', '', '', 'D*72']\n",
      "['$GPRMC', '053219.00', 'A', '1134.58204', 'N', '10752.33659', 'E', '0.062', '', '300424', '', '', 'D*7B']\n",
      "['$GPRMC', '053220.00', 'A', '1134.58205', 'N', '10752.33655', 'E', '0.024', '', '300424', '', '', 'D*7E']\n",
      "Đã nhấn nút Esc, kết thúc vòng lặp.\n"
     ]
    }
   ],
   "source": [
    "while(True):\n",
    "    if keyboard.is_pressed('esc'):\n",
    "        print(\"Đã nhấn nút Esc, kết thúc vòng lặp.\")\n",
    "        break\n",
    "    try:\n",
    "        # Đọc dữ liệu UART về GPS\n",
    "        gps = gps_uart.readline().decode().strip()\n",
    "        # Xử lý tín hiệu UART cho GPS\n",
    "        if gps.startswith('$GPRMC'):\n",
    "            data = gps.split(',')\n",
    "            print(data)\n",
    "            # lay du lieu thoi gian lay mau\n",
    "            data_GPS_time = data[9][4:6]+'.'+ data[9][2:4]+'.'+data[9][0:2]+'.'+data[1][0:2] +'.'+ data[1][2:4] +'.'+ data[1][4:6] \n",
    "            # Tao mang chuan bi luu gia tri\n",
    "            \n",
    "            if data[2] == 'A':\n",
    "\n",
    "                latitude_decimal = float(data[3])\n",
    "                longitude_decimal = float(data[5])\n",
    "                # Chuyển đổi độ phút giây\n",
    "                latitude_degrees = int(latitude_decimal / 100)\n",
    "                latitude_minutes = float((latitude_decimal % 100) / 60)\n",
    "                latitude = latitude_degrees + latitude_minutes\n",
    "\n",
    "                longitude_degrees = int(longitude_decimal / 100)\n",
    "                longitude_minutes = float((longitude_decimal % 100) / 60)\n",
    "                longitude = longitude_degrees + longitude_minutes\n",
    "        \n",
    "                # Cập nhật giá trị lên các ô label\n",
    "                data_gps_position = np.zeros((1,2))\n",
    "                data_gps_position[0,0] = latitude \n",
    "                data_gps_position[0,1] =  longitude\n",
    "            # print(data_gps_position)\n",
    "            # print(data_GPS_time)\n",
    "            df = pd.DataFrame(data_gps_position,columns=['Latitude','Longitude'])\n",
    "            df.index = [data_GPS_time]\n",
    "            # print(df)\n",
    "            data_GPS = pd.concat([data_GPS, df])\n",
    "            \n",
    "\n",
    "    except:\n",
    "        # Xử lý khi UART bị ngắt\n",
    "        latitude = 0\n",
    "        longitude = 0\n",
    "data_GPS.index = pd.to_datetime(data_GPS.index, format='%y.%m.%d.%H.%M.%S')"
   ]
  },
  {
   "cell_type": "code",
   "execution_count": 5,
   "metadata": {},
   "outputs": [
    {
     "name": "stdout",
     "output_type": "stream",
     "text": [
      "                      Latitude   Longitude\n",
      "2024-04-30 05:32:09  11.576367  107.872281\n",
      "2024-04-30 05:32:10  11.576367  107.872281\n",
      "2024-04-30 05:32:11  11.576367  107.872281\n",
      "2024-04-30 05:32:12  11.576367  107.872280\n",
      "2024-04-30 05:32:13  11.576367  107.872279\n",
      "2024-04-30 05:32:14  11.576367  107.872279\n",
      "2024-04-30 05:32:15  11.576367  107.872278\n",
      "2024-04-30 05:32:16  11.576368  107.872278\n",
      "2024-04-30 05:32:17  11.576367  107.872277\n",
      "2024-04-30 05:32:18  11.576367  107.872277\n",
      "2024-04-30 05:32:19  11.576367  107.872277\n",
      "2024-04-30 05:32:20  11.576367  107.872276\n"
     ]
    }
   ],
   "source": [
    "print(data_GPS)"
   ]
  },
  {
   "cell_type": "code",
   "execution_count": 6,
   "metadata": {},
   "outputs": [],
   "source": [
    "data_GPS.to_csv('test GPS')"
   ]
  },
  {
   "cell_type": "code",
   "execution_count": null,
   "metadata": {},
   "outputs": [],
   "source": []
  }
 ],
 "metadata": {
  "kernelspec": {
   "display_name": "Python 3",
   "language": "python",
   "name": "python3"
  },
  "language_info": {
   "codemirror_mode": {
    "name": "ipython",
    "version": 3
   },
   "file_extension": ".py",
   "mimetype": "text/x-python",
   "name": "python",
   "nbconvert_exporter": "python",
   "pygments_lexer": "ipython3",
   "version": "3.9.6"
  }
 },
 "nbformat": 4,
 "nbformat_minor": 2
}
