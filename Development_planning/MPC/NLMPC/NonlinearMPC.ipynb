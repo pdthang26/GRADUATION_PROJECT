{
 "cells": [
  {
   "cell_type": "code",
   "execution_count": 1,
   "metadata": {},
   "outputs": [
    {
     "name": "stdout",
     "output_type": "stream",
     "text": [
      "MALAB ENGINE FINISHED BEGINNING !!!\n"
     ]
    }
   ],
   "source": [
    "from math import*\n",
    "import numpy as np\n",
    "from numba import jit,njit\n",
    "import time\n",
    "import pandas as pd\n",
    "import matlab.engine\n",
    "# Khởi động matlab engine\n",
    "eng = matlab.engine.start_matlab()\n",
    "print('MALAB ENGINE FINISHED BEGINNING !!!')"
   ]
  },
  {
   "cell_type": "code",
   "execution_count": 2,
   "metadata": {},
   "outputs": [],
   "source": [
    "curvature_ref = np.array(pd.read_csv(\"curvature.csv\"))"
   ]
  },
  {
   "cell_type": "code",
   "execution_count": 3,
   "metadata": {},
   "outputs": [],
   "source": [
    "def init_Nlmpc(x0,Ts):\n",
    "    x0 = matlab.double(x0)\n",
    "    Ts = eng.double(0.1)\n",
    "    nlobj,ekf = eng.InitialNonlinearMPC(x0,Ts, nargout=2)\n",
    "    return nlobj,ekf"
   ]
  },
  {
   "cell_type": "code",
   "execution_count": 65,
   "metadata": {},
   "outputs": [],
   "source": [
    "x0 = [0, 0, 15, 0, 0, 0, 0]\n",
    "u0 = [0, 0, 0.000276764*x0[2], 0.001]\n",
    "yref = [20, 0, 0] # tốc độ, sai số với tâm đường, góc mong muốn\n",
    "mv = [0, 0]\n",
    "md0 = 0.1\n",
    "white_noise = 0\n",
    "Ts = 0.1"
   ]
  },
  {
   "cell_type": "code",
   "execution_count": 66,
   "metadata": {},
   "outputs": [],
   "source": [
    "nlobj, ekf = init_Nlmpc(x0,Ts)\n"
   ]
  },
  {
   "cell_type": "code",
   "execution_count": 68,
   "metadata": {},
   "outputs": [],
   "source": [
    "def Nonlinear_MPC_controll(nlmpcObject,ekfObject,x,lastmv,unMeasValue,curvature,Ts,y_reference):\n",
    "    x= matlab.double(x)\n",
    "    lastmv = matlab.double(lastmv)\n",
    "    y_reference = matlab.double(y_reference)\n",
    "    unMeasValue = eng.double(unMeasValue)\n",
    "    curvature = matlab.double(curvature)\n",
    "    Ts = eng.double(Ts)\n",
    "    output,nlmpcObject,ekfObject = eng.controlByNLMPC(nlmpcObject,ekfObject,x,lastmv,unMeasValue,curvature,Ts,y_reference,nargout = 3)\n",
    "    output = np.array(output)\n",
    "    output = [output[0][0],output[1][0]]\n",
    "    return output,nlmpcObject,ekfObject"
   ]
  },
  {
   "cell_type": "code",
   "execution_count": 69,
   "metadata": {},
   "outputs": [],
   "source": [
    "curr = curvature_ref[0].tolist()"
   ]
  },
  {
   "cell_type": "code",
   "execution_count": 77,
   "metadata": {},
   "outputs": [
    {
     "data": {
      "text/plain": [
       "2257.5605703501024"
      ]
     },
     "execution_count": 77,
     "metadata": {},
     "output_type": "execute_result"
    }
   ],
   "source": []
  },
  {
   "cell_type": "code",
   "execution_count": 74,
   "metadata": {},
   "outputs": [],
   "source": [
    "mv, nlobj, ekf = Nonlinear_MPC_controll(nlobj,ekf,x0,[0,0],0,[0.0044],Ts,yref)"
   ]
  },
  {
   "cell_type": "code",
   "execution_count": 75,
   "metadata": {},
   "outputs": [
    {
     "name": "stdout",
     "output_type": "stream",
     "text": [
      "[3.0, 0.055670759232996796]\n"
     ]
    }
   ],
   "source": [
    "print(mv)"
   ]
  },
  {
   "cell_type": "code",
   "execution_count": 147,
   "metadata": {},
   "outputs": [
    {
     "name": "stdout",
     "output_type": "stream",
     "text": [
      "['HasAdditiveProcessNoise', 'StateTransitionFcn', 'HasAdditiveMeasurementNoise', 'MeasurementFcn', 'StateTransitionJacobianFcn', 'MeasurementJacobianFcn', 'State', 'StateCovariance', 'ProcessNoise', 'MeasurementNoise']\n"
     ]
    }
   ],
   "source": [
    "print(eng.properties(ekf))\n"
   ]
  },
  {
   "cell_type": "code",
   "execution_count": 148,
   "metadata": {},
   "outputs": [
    {
     "name": "stdout",
     "output_type": "stream",
     "text": [
      "EXIT MATLAB ENGINE !!!\n"
     ]
    }
   ],
   "source": [
    "eng.quit()\n",
    "print(\"EXIT MATLAB ENGINE !!!\")"
   ]
  }
 ],
 "metadata": {
  "kernelspec": {
   "display_name": "Python 3",
   "language": "python",
   "name": "python3"
  },
  "language_info": {
   "codemirror_mode": {
    "name": "ipython",
    "version": 3
   },
   "file_extension": ".py",
   "mimetype": "text/x-python",
   "name": "python",
   "nbconvert_exporter": "python",
   "pygments_lexer": "ipython3",
   "version": "3.9.6"
  }
 },
 "nbformat": 4,
 "nbformat_minor": 2
}
